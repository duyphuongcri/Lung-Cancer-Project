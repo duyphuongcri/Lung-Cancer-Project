{
 "cells": [
  {
   "cell_type": "code",
   "execution_count": 1,
   "metadata": {},
   "outputs": [],
   "source": [
    "import pandas as pd\n",
    "import torch\n",
    "import torch.nn as nn\n",
    "import numpy as np\n",
    "import os, math\n",
    "\n",
    "import dataloader\n",
    "from model import *\n",
    "from sklearn.preprocessing import StandardScaler\n",
    "from sklearn_pandas import DataFrameMapper"
   ]
  },
  {
   "cell_type": "code",
   "execution_count": 2,
   "metadata": {},
   "outputs": [],
   "source": [
    "# np.random.seed(231)\n",
    "# torch.manual_seed(123)\n",
    "\n",
    "device = torch.device('cuda') if torch.cuda.is_available() else torch.device('cpu')"
   ]
  },
  {
   "cell_type": "markdown",
   "metadata": {},
   "source": [
    "## Dataset"
   ]
  },
  {
   "cell_type": "code",
   "execution_count": 3,
   "metadata": {},
   "outputs": [],
   "source": [
    "import argparse \n",
    "fold = 4\n",
    "\n",
    "parser = argparse.ArgumentParser()\n",
    "# hyper-parameters\n",
    "parser.add_argument('--batch_size', type=int, default=8000,\n",
    "                    help='training batch size')\n",
    "parser.add_argument('--path_image', type=str, default=\"./dataset/total_12_folders\",\n",
    "                    help='')\n",
    "parser.add_argument('--path_clinical_train', type=str, default=\"./dataset/Lung1dataset/train_fold_{}.csv\".format(fold),\n",
    "                    help='')\n",
    "parser.add_argument('--path_clinical_val', type=str, default=\"./dataset/Lung1dataset/val_fold_{}.csv\".format(fold),\n",
    "                    help='')\n",
    "parser.add_argument('--path_clinical_test', type=str, default=\"./dataset/Lung1dataset/test.csv\",\n",
    "                    help='')\n",
    "parser.add_argument('--data_type', type=str, default=\"clinical\",\n",
    "                    help='Choose one of these options: clinical, ct, pet, clinical_ct_pet')  \n",
    "\n",
    "parser.add_argument('--dataname', type=str, default=\"Lung1-dataset\",\n",
    "                            help='Choose one of these options: lungcancer, Lung1-dataset ') \n",
    "arg, unknown = parser.parse_known_args()"
   ]
  },
  {
   "cell_type": "code",
   "execution_count": 4,
   "metadata": {},
   "outputs": [
    {
     "name": "stdout",
     "output_type": "stream",
     "text": [
      "X train shape:  torch.Size([239, 5])\n",
      "Y train shape:  torch.Size([239])\n",
      "E train shape:  torch.Size([239])\n",
      "\n",
      "X val shape:  torch.Size([59, 5])\n",
      "Y val shape:  torch.Size([59])\n",
      "E val shape:  torch.Size([59])\n",
      "\n",
      "X test shape:  torch.Size([100, 5])\n",
      "Y test shape:  torch.Size([100])\n",
      "E test shape:  torch.Size([100])\n"
     ]
    }
   ],
   "source": [
    "# X_train, Y_train, E_train, _ = dataloader.load_clinical_data(\"./dataset/train.csv\")\n",
    "# X_test, Y_test, E_test, patients_test = dataloader.load_clinical_data(\"./dataset/test.csv\")\n",
    "\n",
    "# X_train = torch.Tensor(X_train).to(device)\n",
    "# Y_train = torch.Tensor(Y_train).to(device)\n",
    "# E_train = torch.Tensor(E_train).to(device)\n",
    "\n",
    "# X_test = torch.Tensor(X_test).to(device)\n",
    "# Y_test = torch.Tensor(Y_test).to(device)\n",
    "# E_test = torch.Tensor(E_test).to(device)\n",
    "\n",
    "# print(\"X train shape: \", X_train.shape)\n",
    "# print(\"Y train shape: \", Y_train.shape)\n",
    "# print(\"E train shape: \", E_train.shape)\n",
    "# print()\n",
    "# print(\"X test shape: \", X_test.shape)\n",
    "# print(\"Y test shape: \", Y_test.shape)\n",
    "# print(\"E test shape: \", E_test.shape)\n",
    "\n",
    "\n",
    "#for _, _, X, E, Y in dataloader.load_CT_PET_Clinical_data(arg.path_image, arg.path_clinical_train, arg.batch_size, \"test\", arg.data_type):\n",
    "for X, Y, E in dataloader.load_data(arg.dataname, arg.path_clinical_train, 'test'):\n",
    "    X_train = X.to(device)\n",
    "    Y_train = Y.to(device)#.int() +1\n",
    "    E_train = E.to(device)\n",
    "#for _, _, X, E, Y in dataloader.load_CT_PET_Clinical_data(arg.path_image, arg.path_clinical_val, arg.batch_size, \"test\", arg.data_type):\n",
    "for X, Y, E in dataloader.load_data(arg.dataname, arg.path_clinical_val, 'test'):\n",
    "    X_val = X.to(device)\n",
    "    Y_val = Y.to(device)#.int()+1\n",
    "    E_val = E.to(device)\n",
    "#for _, _, X, E, Y in dataloader.load_CT_PET_Clinical_data(arg.path_image, arg.path_clinical_test, arg.batch_size, \"test\", arg.data_type):\n",
    "for X, Y, E in dataloader.load_data(arg.dataname, arg.path_clinical_test, 'test'):\n",
    "    X_test = X.to(device)\n",
    "    Y_test = Y.to(device)#.int()+1\n",
    "    E_test = E.to(device)\n",
    "    \n",
    "print(\"X train shape: \", X_train.shape)\n",
    "print(\"Y train shape: \", Y_train.shape)\n",
    "print(\"E train shape: \", E_train.shape)\n",
    "print()\n",
    "print(\"X val shape: \", X_val.shape)\n",
    "print(\"Y val shape: \", Y_val.shape)\n",
    "print(\"E val shape: \", E_val.shape)\n",
    "print()\n",
    "print(\"X test shape: \", X_test.shape)\n",
    "print(\"Y test shape: \", Y_test.shape)\n",
    "print(\"E test shape: \", E_test.shape)\n"
   ]
  },
  {
   "cell_type": "markdown",
   "metadata": {},
   "source": [
    "## Training the model\n",
    "To train the model we need to define an optimizer. You can choose any torch.optim optimizer, but here we instead use one from tt.optim as it has some added functionality. We use the Adam optimizer, but instead of choosing a learning rate, we will use the scheme proposed by Smith 2017 to find a suitable learning rate with model.lr_finder. See this post for an explanation."
   ]
  },
  {
   "cell_type": "code",
   "execution_count": 5,
   "metadata": {},
   "outputs": [
    {
     "data": {
      "text/plain": [
       "DeepCPH_clinical(\n",
       "  (linear1): Linear(in_features=5, out_features=64, bias=True)\n",
       "  (bn1): BatchNorm1d(64, eps=1e-05, momentum=0.1, affine=True, track_running_stats=True)\n",
       "  (linear2): Linear(in_features=64, out_features=16, bias=True)\n",
       "  (bn2): BatchNorm1d(16, eps=1e-05, momentum=0.1, affine=True, track_running_stats=True)\n",
       "  (linear3): Linear(in_features=16, out_features=1, bias=False)\n",
       "  (relu): ReLU()\n",
       "  (dropout): Dropout(p=0.1, inplace=True)\n",
       ")"
      ]
     },
     "execution_count": 5,
     "metadata": {},
     "output_type": "execute_result"
    }
   ],
   "source": [
    "#model = torch.load(\"./checkpoint/2020-12-26_clinical/model_146.pt\")\n",
    "model = torch.load(\"./checkpoint/2021-02-06_clinical_fold_{}/model_best.pt\".format(fold))\n",
    "model.to(device)\n",
    "model.eval()"
   ]
  },
  {
   "cell_type": "code",
   "execution_count": 6,
   "metadata": {},
   "outputs": [],
   "source": [
    "def target_to_df(durations, events):\n",
    "    df = pd.DataFrame({\"duration\": durations, \"event\": events}) \n",
    "    return df\n",
    "\n",
    "def partial_log_likelihood(model, input, duration, event, g_preds=None, eps=1e-7):\n",
    "    '''Calculate the partial log-likelihood for the events in datafram df.\n",
    "    This likelihood does not sample the controls.\n",
    "    Note that censored data (non events) does not have a partial log-likelihood.\n",
    "\n",
    "    Arguments:\n",
    "        input {tuple, np.ndarray, or torch.tensor} -- Input to net.\n",
    "        target {tuple, np.ndarray, or torch.tensor} -- Target labels.\n",
    "\n",
    "    Keyword Arguments:\n",
    "        g_preds {np.array} -- Predictions from `model.predict` (default: {None})\n",
    "        batch_size {int} -- Batch size (default: {8224})\n",
    "        eval_ {bool} -- If 'True', use 'eval' mode on net. (default: {True})\n",
    "        num_workers {int} -- Number of workers in created dataloader (default: {0})\n",
    "\n",
    "    Returns:\n",
    "        Partial log-likelihood.\n",
    "    '''\n",
    "    df = target_to_df(duration, event)\n",
    "    if g_preds is None:\n",
    "        g_preds = model(input).cpu().detach().numpy()\n",
    "    return (df\n",
    "            .assign(_g_preds=g_preds)\n",
    "            .sort_values(\"duration\", ascending=False)\n",
    "            .assign(_cum_exp_g=(lambda x: x['_g_preds']\n",
    "                                .pipe(np.exp)\n",
    "                                .cumsum()\n",
    "                                .groupby(x[\"duration\"])\n",
    "                                .transform('max')))\n",
    "            .loc[lambda x: x[\"event\"] == 1]\n",
    "            .assign(pll=lambda x: x['_g_preds'] - np.log(x['_cum_exp_g'] + eps))\n",
    "            ['pll'])"
   ]
  },
  {
   "cell_type": "code",
   "execution_count": 7,
   "metadata": {},
   "outputs": [
    {
     "data": {
      "text/plain": [
       "-4.655169"
      ]
     },
     "execution_count": 7,
     "metadata": {},
     "output_type": "execute_result"
    }
   ],
   "source": [
    "partial_log_likelihood(model, X_train, Y_train.cpu().detach().numpy(), E_train.cpu().detach().numpy()).mean()"
   ]
  },
  {
   "cell_type": "markdown",
   "metadata": {},
   "source": [
    "## Prediction\n",
    "For evaluation we first need to obtain survival estimates for the test set. This can be done with model.predict_surv which returns an array of survival estimates, or with model.predict_surv_df which returns the survival estimates as a dataframe.\n",
    "\n",
    "However, as CoxPH is semi-parametric, we first need to get the non-parametric baseline hazard estimates with compute_baseline_hazards.\n",
    "\n",
    "Note that for large datasets the sample argument can be used to estimate the baseline hazard on a subset."
   ]
  },
  {
   "cell_type": "code",
   "execution_count": 8,
   "metadata": {},
   "outputs": [],
   "source": [
    "def compute_baseline_hazards(model, input, df_target, max_duration):\n",
    "\n",
    "    # Here we are computing when expg when there are no events.\n",
    "    #   Could be made faster, by only computing when there are events.\n",
    "    return (df_target\n",
    "            .assign(expg=np.exp(model(input).cpu().detach().numpy()))\n",
    "            .groupby(\"duration\")\n",
    "            .agg({'expg': 'sum', \"event\": 'sum'})\n",
    "            .sort_index(ascending=False)\n",
    "            .assign(expg=lambda x: x['expg'].cumsum())\n",
    "            .pipe(lambda x: x[\"event\"]/x['expg'])\n",
    "            .fillna(0.)\n",
    "            .iloc[::-1]\n",
    "            .loc[lambda x: x.index <= max_duration]\n",
    "            .rename('baseline_hazards'))\n",
    "           \n"
   ]
  },
  {
   "cell_type": "code",
   "execution_count": 9,
   "metadata": {},
   "outputs": [
    {
     "data": {
      "text/plain": [
       "duration\n",
       "10.0      0.003245\n",
       "18.0      0.003261\n",
       "39.0      0.003291\n",
       "50.0      0.003307\n",
       "51.0      0.003319\n",
       "            ...   \n",
       "4013.0    0.000000\n",
       "4019.0    0.000000\n",
       "4067.0    0.000000\n",
       "4202.0    0.000000\n",
       "4208.0    0.000000\n",
       "Name: baseline_hazards, Length: 226, dtype: float32"
      ]
     },
     "execution_count": 9,
     "metadata": {},
     "output_type": "execute_result"
    }
   ],
   "source": [
    "df = target_to_df(Y_train.cpu().detach().numpy(), E_train.cpu().detach().numpy()) \n",
    "max_duration = np.inf \n",
    "\n",
    "base_haz = compute_baseline_hazards(model, X_train, df, max_duration)\n",
    "base_haz"
   ]
  },
  {
   "cell_type": "code",
   "execution_count": 10,
   "metadata": {},
   "outputs": [
    {
     "data": {
      "text/plain": [
       "duration\n",
       "10.0      0.003245\n",
       "18.0      0.006506\n",
       "39.0      0.009797\n",
       "50.0      0.013104\n",
       "51.0      0.016423\n",
       "            ...   \n",
       "4013.0    2.173827\n",
       "4019.0    2.173827\n",
       "4067.0    2.173827\n",
       "4202.0    2.173827\n",
       "4208.0    2.173827\n",
       "Name: baseline_cumulative_hazards, Length: 226, dtype: float32"
      ]
     },
     "execution_count": 10,
     "metadata": {},
     "output_type": "execute_result"
    }
   ],
   "source": [
    "bch = (base_haz.cumsum().rename('baseline_cumulative_hazards'))\n",
    "bch"
   ]
  },
  {
   "cell_type": "code",
   "execution_count": 11,
   "metadata": {},
   "outputs": [],
   "source": [
    "max_duration = np.inf\n",
    "bch = bch.loc[lambda x: x.index <= max_duration]\n",
    "\n",
    "expg=np.exp(model(X_test).cpu().detach().numpy().reshape(1, -1))                                                                                        \n",
    "\n",
    "surv = np.exp(-pd.DataFrame(bch.values.reshape(-1, 1).dot(expg), index=bch.index))\n"
   ]
  },
  {
   "cell_type": "code",
   "execution_count": 12,
   "metadata": {},
   "outputs": [
    {
     "name": "stdout",
     "output_type": "stream",
     "text": [
      "                 0         1         2         3         4\n",
      "duration                                                  \n",
      "10.0      0.996188  0.996696  0.996682  0.996692  0.993259\n",
      "18.0      0.992372  0.993386  0.993359  0.993379  0.986529\n",
      "39.0      0.988536  0.990057  0.990016  0.990046  0.979785\n",
      "50.0      0.984696  0.986723  0.986668  0.986709  0.973054\n",
      "51.0      0.980858  0.983388  0.983320  0.983371  0.966346\n",
      "...            ...       ...       ...       ...       ...\n",
      "4013.0    0.077431  0.108901  0.107910  0.108646  0.010766\n",
      "4019.0    0.077431  0.108901  0.107910  0.108646  0.010766\n",
      "4067.0    0.077431  0.108901  0.107910  0.108646  0.010766\n",
      "4202.0    0.077431  0.108901  0.107910  0.108646  0.010766\n",
      "4208.0    0.077431  0.108901  0.107910  0.108646  0.010766\n",
      "\n",
      "[226 rows x 5 columns]\n"
     ]
    },
    {
     "data": {
      "image/png": "[encoded data removed]",
      "text/plain": [
       "<Figure size 432x288 with 1 Axes>"
      ]
     },
     "metadata": {
      "needs_background": "light"
     },
     "output_type": "display_data"
    }
   ],
   "source": [
    "import matplotlib.pyplot as plt\n",
    "surv.iloc[:, :5].plot(drawstyle='steps-post')  #drawstyle='steps-post'\n",
    "plt.ylabel('S(t | x)')\n",
    "_ = plt.xlabel('Time')\n",
    "print(surv.iloc[:, :5])"
   ]
  },
  {
   "cell_type": "markdown",
   "metadata": {},
   "source": [
    "## Evaluation\n",
    "We can use the EvalSurv class for evaluation the concordance, brier score and binomial log-likelihood. Setting censor_surv='km' means that we estimate the censoring distribution by Kaplan-Meier on the test set."
   ]
  },
  {
   "cell_type": "code",
   "execution_count": 13,
   "metadata": {},
   "outputs": [],
   "source": [
    "from pycox.evaluation import EvalSurv"
   ]
  },
  {
   "cell_type": "code",
   "execution_count": 14,
   "metadata": {},
   "outputs": [],
   "source": [
    "durations_test, events_test = Y_test.cpu().detach().numpy(), E_test.cpu().detach().numpy()\n",
    "ev = EvalSurv(surv, durations_test, events_test, censor_surv='km')"
   ]
  },
  {
   "cell_type": "markdown",
   "metadata": {},
   "source": [
    "## Concordance Metric"
   ]
  },
  {
   "cell_type": "code",
   "execution_count": 15,
   "metadata": {},
   "outputs": [
    {
     "data": {
      "text/plain": [
       "0.4888564882316184"
      ]
     },
     "execution_count": 15,
     "metadata": {},
     "output_type": "execute_result"
    }
   ],
   "source": [
    "ev.concordance_td()"
   ]
  },
  {
   "cell_type": "code",
   "execution_count": 16,
   "metadata": {},
   "outputs": [
    {
     "data": {
      "image/png": "[encoded data removed]",
      "text/plain": [
       "<Figure size 432x288 with 1 Axes>"
      ]
     },
     "metadata": {
      "needs_background": "light"
     },
     "output_type": "display_data"
    }
   ],
   "source": [
    "time_grid = np.linspace(durations_test.min(), durations_test.max(), 100)\n",
    "_ = ev.brier_score(time_grid).plot()"
   ]
  },
  {
   "cell_type": "code",
   "execution_count": 17,
   "metadata": {},
   "outputs": [
    {
     "data": {
      "text/plain": [
       "0.1362444195285756"
      ]
     },
     "execution_count": 17,
     "metadata": {},
     "output_type": "execute_result"
    }
   ],
   "source": [
    "ev.integrated_brier_score(time_grid)"
   ]
  },
  {
   "cell_type": "code",
   "execution_count": 18,
   "metadata": {},
   "outputs": [
    {
     "data": {
      "text/plain": [
       "0.4311074746808886"
      ]
     },
     "execution_count": 18,
     "metadata": {},
     "output_type": "execute_result"
    }
   ],
   "source": [
    "ev.integrated_nbll(time_grid)"
   ]
  },
  {
   "cell_type": "markdown",
   "metadata": {},
   "source": [
    "## MAE Metric\n"
   ]
  },
  {
   "cell_type": "code",
   "execution_count": 19,
   "metadata": {},
   "outputs": [
    {
     "data": {
      "text/html": [
       "<div>\n",
       "<style scoped>\n",
       "    .dataframe tbody tr th:only-of-type {\n",
       "        vertical-align: middle;\n",
       "    }\n",
       "\n",
       "    .dataframe tbody tr th {\n",
       "        vertical-align: top;\n",
       "    }\n",
       "\n",
       "    .dataframe thead th {\n",
       "        text-align: right;\n",
       "    }\n",
       "</style>\n",
       "<table border=\"1\" class=\"dataframe\">\n",
       "  <thead>\n",
       "    <tr style=\"text-align: right;\">\n",
       "      <th></th>\n",
       "      <th>0</th>\n",
       "      <th>1</th>\n",
       "      <th>2</th>\n",
       "      <th>3</th>\n",
       "      <th>4</th>\n",
       "      <th>5</th>\n",
       "      <th>6</th>\n",
       "      <th>7</th>\n",
       "      <th>8</th>\n",
       "      <th>9</th>\n",
       "      <th>...</th>\n",
       "      <th>90</th>\n",
       "      <th>91</th>\n",
       "      <th>92</th>\n",
       "      <th>93</th>\n",
       "      <th>94</th>\n",
       "      <th>95</th>\n",
       "      <th>96</th>\n",
       "      <th>97</th>\n",
       "      <th>98</th>\n",
       "      <th>99</th>\n",
       "    </tr>\n",
       "    <tr>\n",
       "      <th>duration</th>\n",
       "      <th></th>\n",
       "      <th></th>\n",
       "      <th></th>\n",
       "      <th></th>\n",
       "      <th></th>\n",
       "      <th></th>\n",
       "      <th></th>\n",
       "      <th></th>\n",
       "      <th></th>\n",
       "      <th></th>\n",
       "      <th></th>\n",
       "      <th></th>\n",
       "      <th></th>\n",
       "      <th></th>\n",
       "      <th></th>\n",
       "      <th></th>\n",
       "      <th></th>\n",
       "      <th></th>\n",
       "      <th></th>\n",
       "      <th></th>\n",
       "      <th></th>\n",
       "    </tr>\n",
       "  </thead>\n",
       "  <tbody>\n",
       "    <tr>\n",
       "      <th>10.0</th>\n",
       "      <td>0.996188</td>\n",
       "      <td>0.996696</td>\n",
       "      <td>0.996682</td>\n",
       "      <td>0.996692</td>\n",
       "      <td>0.993259</td>\n",
       "      <td>0.995788</td>\n",
       "      <td>0.996585</td>\n",
       "      <td>0.994422</td>\n",
       "      <td>0.994255</td>\n",
       "      <td>0.995306</td>\n",
       "      <td>...</td>\n",
       "      <td>0.996433</td>\n",
       "      <td>0.996276</td>\n",
       "      <td>0.996679</td>\n",
       "      <td>0.996452</td>\n",
       "      <td>0.996385</td>\n",
       "      <td>0.993268</td>\n",
       "      <td>0.996139</td>\n",
       "      <td>0.996114</td>\n",
       "      <td>0.996805</td>\n",
       "      <td>0.995779</td>\n",
       "    </tr>\n",
       "    <tr>\n",
       "      <th>18.0</th>\n",
       "      <td>0.992372</td>\n",
       "      <td>0.993386</td>\n",
       "      <td>0.993359</td>\n",
       "      <td>0.993379</td>\n",
       "      <td>0.986529</td>\n",
       "      <td>0.991573</td>\n",
       "      <td>0.993165</td>\n",
       "      <td>0.988848</td>\n",
       "      <td>0.988514</td>\n",
       "      <td>0.990611</td>\n",
       "      <td>...</td>\n",
       "      <td>0.992861</td>\n",
       "      <td>0.992548</td>\n",
       "      <td>0.993352</td>\n",
       "      <td>0.992899</td>\n",
       "      <td>0.992766</td>\n",
       "      <td>0.986548</td>\n",
       "      <td>0.992273</td>\n",
       "      <td>0.992223</td>\n",
       "      <td>0.993604</td>\n",
       "      <td>0.991555</td>\n",
       "    </tr>\n",
       "    <tr>\n",
       "      <th>39.0</th>\n",
       "      <td>0.988536</td>\n",
       "      <td>0.990057</td>\n",
       "      <td>0.990016</td>\n",
       "      <td>0.990046</td>\n",
       "      <td>0.979785</td>\n",
       "      <td>0.987338</td>\n",
       "      <td>0.989726</td>\n",
       "      <td>0.983254</td>\n",
       "      <td>0.982754</td>\n",
       "      <td>0.985896</td>\n",
       "      <td>...</td>\n",
       "      <td>0.989269</td>\n",
       "      <td>0.988799</td>\n",
       "      <td>0.990006</td>\n",
       "      <td>0.989327</td>\n",
       "      <td>0.989126</td>\n",
       "      <td>0.979813</td>\n",
       "      <td>0.988388</td>\n",
       "      <td>0.988313</td>\n",
       "      <td>0.990385</td>\n",
       "      <td>0.987310</td>\n",
       "    </tr>\n",
       "    <tr>\n",
       "      <th>50.0</th>\n",
       "      <td>0.984696</td>\n",
       "      <td>0.986723</td>\n",
       "      <td>0.986668</td>\n",
       "      <td>0.986709</td>\n",
       "      <td>0.973054</td>\n",
       "      <td>0.983100</td>\n",
       "      <td>0.986282</td>\n",
       "      <td>0.977665</td>\n",
       "      <td>0.976999</td>\n",
       "      <td>0.981180</td>\n",
       "      <td>...</td>\n",
       "      <td>0.985672</td>\n",
       "      <td>0.985047</td>\n",
       "      <td>0.986654</td>\n",
       "      <td>0.985749</td>\n",
       "      <td>0.985482</td>\n",
       "      <td>0.973091</td>\n",
       "      <td>0.984498</td>\n",
       "      <td>0.984398</td>\n",
       "      <td>0.987160</td>\n",
       "      <td>0.983063</td>\n",
       "    </tr>\n",
       "    <tr>\n",
       "      <th>51.0</th>\n",
       "      <td>0.980858</td>\n",
       "      <td>0.983388</td>\n",
       "      <td>0.983320</td>\n",
       "      <td>0.983371</td>\n",
       "      <td>0.966346</td>\n",
       "      <td>0.978865</td>\n",
       "      <td>0.982837</td>\n",
       "      <td>0.972088</td>\n",
       "      <td>0.971259</td>\n",
       "      <td>0.976471</td>\n",
       "      <td>...</td>\n",
       "      <td>0.982076</td>\n",
       "      <td>0.981295</td>\n",
       "      <td>0.983303</td>\n",
       "      <td>0.982173</td>\n",
       "      <td>0.981839</td>\n",
       "      <td>0.966392</td>\n",
       "      <td>0.980611</td>\n",
       "      <td>0.980486</td>\n",
       "      <td>0.983934</td>\n",
       "      <td>0.978819</td>\n",
       "    </tr>\n",
       "    <tr>\n",
       "      <th>...</th>\n",
       "      <td>...</td>\n",
       "      <td>...</td>\n",
       "      <td>...</td>\n",
       "      <td>...</td>\n",
       "      <td>...</td>\n",
       "      <td>...</td>\n",
       "      <td>...</td>\n",
       "      <td>...</td>\n",
       "      <td>...</td>\n",
       "      <td>...</td>\n",
       "      <td>...</td>\n",
       "      <td>...</td>\n",
       "      <td>...</td>\n",
       "      <td>...</td>\n",
       "      <td>...</td>\n",
       "      <td>...</td>\n",
       "      <td>...</td>\n",
       "      <td>...</td>\n",
       "      <td>...</td>\n",
       "      <td>...</td>\n",
       "      <td>...</td>\n",
       "    </tr>\n",
       "    <tr>\n",
       "      <th>4013.0</th>\n",
       "      <td>0.077431</td>\n",
       "      <td>0.108901</td>\n",
       "      <td>0.107910</td>\n",
       "      <td>0.108646</td>\n",
       "      <td>0.010766</td>\n",
       "      <td>0.059159</td>\n",
       "      <td>0.101118</td>\n",
       "      <td>0.023585</td>\n",
       "      <td>0.021066</td>\n",
       "      <td>0.042778</td>\n",
       "      <td>...</td>\n",
       "      <td>0.091264</td>\n",
       "      <td>0.082141</td>\n",
       "      <td>0.107657</td>\n",
       "      <td>0.092455</td>\n",
       "      <td>0.088391</td>\n",
       "      <td>0.010835</td>\n",
       "      <td>0.074892</td>\n",
       "      <td>0.073644</td>\n",
       "      <td>0.117208</td>\n",
       "      <td>0.058792</td>\n",
       "    </tr>\n",
       "    <tr>\n",
       "      <th>4019.0</th>\n",
       "      <td>0.077431</td>\n",
       "      <td>0.108901</td>\n",
       "      <td>0.107910</td>\n",
       "      <td>0.108646</td>\n",
       "      <td>0.010766</td>\n",
       "      <td>0.059159</td>\n",
       "      <td>0.101118</td>\n",
       "      <td>0.023585</td>\n",
       "      <td>0.021066</td>\n",
       "      <td>0.042778</td>\n",
       "      <td>...</td>\n",
       "      <td>0.091264</td>\n",
       "      <td>0.082141</td>\n",
       "      <td>0.107657</td>\n",
       "      <td>0.092455</td>\n",
       "      <td>0.088391</td>\n",
       "      <td>0.010835</td>\n",
       "      <td>0.074892</td>\n",
       "      <td>0.073644</td>\n",
       "      <td>0.117208</td>\n",
       "      <td>0.058792</td>\n",
       "    </tr>\n",
       "    <tr>\n",
       "      <th>4067.0</th>\n",
       "      <td>0.077431</td>\n",
       "      <td>0.108901</td>\n",
       "      <td>0.107910</td>\n",
       "      <td>0.108646</td>\n",
       "      <td>0.010766</td>\n",
       "      <td>0.059159</td>\n",
       "      <td>0.101118</td>\n",
       "      <td>0.023585</td>\n",
       "      <td>0.021066</td>\n",
       "      <td>0.042778</td>\n",
       "      <td>...</td>\n",
       "      <td>0.091264</td>\n",
       "      <td>0.082141</td>\n",
       "      <td>0.107657</td>\n",
       "      <td>0.092455</td>\n",
       "      <td>0.088391</td>\n",
       "      <td>0.010835</td>\n",
       "      <td>0.074892</td>\n",
       "      <td>0.073644</td>\n",
       "      <td>0.117208</td>\n",
       "      <td>0.058792</td>\n",
       "    </tr>\n",
       "    <tr>\n",
       "      <th>4202.0</th>\n",
       "      <td>0.077431</td>\n",
       "      <td>0.108901</td>\n",
       "      <td>0.107910</td>\n",
       "      <td>0.108646</td>\n",
       "      <td>0.010766</td>\n",
       "      <td>0.059159</td>\n",
       "      <td>0.101118</td>\n",
       "      <td>0.023585</td>\n",
       "      <td>0.021066</td>\n",
       "      <td>0.042778</td>\n",
       "      <td>...</td>\n",
       "      <td>0.091264</td>\n",
       "      <td>0.082141</td>\n",
       "      <td>0.107657</td>\n",
       "      <td>0.092455</td>\n",
       "      <td>0.088391</td>\n",
       "      <td>0.010835</td>\n",
       "      <td>0.074892</td>\n",
       "      <td>0.073644</td>\n",
       "      <td>0.117208</td>\n",
       "      <td>0.058792</td>\n",
       "    </tr>\n",
       "    <tr>\n",
       "      <th>4208.0</th>\n",
       "      <td>0.077431</td>\n",
       "      <td>0.108901</td>\n",
       "      <td>0.107910</td>\n",
       "      <td>0.108646</td>\n",
       "      <td>0.010766</td>\n",
       "      <td>0.059159</td>\n",
       "      <td>0.101118</td>\n",
       "      <td>0.023585</td>\n",
       "      <td>0.021066</td>\n",
       "      <td>0.042778</td>\n",
       "      <td>...</td>\n",
       "      <td>0.091264</td>\n",
       "      <td>0.082141</td>\n",
       "      <td>0.107657</td>\n",
       "      <td>0.092455</td>\n",
       "      <td>0.088391</td>\n",
       "      <td>0.010835</td>\n",
       "      <td>0.074892</td>\n",
       "      <td>0.073644</td>\n",
       "      <td>0.117208</td>\n",
       "      <td>0.058792</td>\n",
       "    </tr>\n",
       "  </tbody>\n",
       "</table>\n",
       "<p>226 rows × 100 columns</p>\n",
       "</div>"
      ],
      "text/plain": [
       "                0         1         2         3         4         5   \\\n",
       "duration                                                               \n",
       "10.0      0.996188  0.996696  0.996682  0.996692  0.993259  0.995788   \n",
       "18.0      0.992372  0.993386  0.993359  0.993379  0.986529  0.991573   \n",
       "39.0      0.988536  0.990057  0.990016  0.990046  0.979785  0.987338   \n",
       "50.0      0.984696  0.986723  0.986668  0.986709  0.973054  0.983100   \n",
       "51.0      0.980858  0.983388  0.983320  0.983371  0.966346  0.978865   \n",
       "...            ...       ...       ...       ...       ...       ...   \n",
       "4013.0    0.077431  0.108901  0.107910  0.108646  0.010766  0.059159   \n",
       "4019.0    0.077431  0.108901  0.107910  0.108646  0.010766  0.059159   \n",
       "4067.0    0.077431  0.108901  0.107910  0.108646  0.010766  0.059159   \n",
       "4202.0    0.077431  0.108901  0.107910  0.108646  0.010766  0.059159   \n",
       "4208.0    0.077431  0.108901  0.107910  0.108646  0.010766  0.059159   \n",
       "\n",
       "                6         7         8         9   ...        90        91  \\\n",
       "duration                                          ...                       \n",
       "10.0      0.996585  0.994422  0.994255  0.995306  ...  0.996433  0.996276   \n",
       "18.0      0.993165  0.988848  0.988514  0.990611  ...  0.992861  0.992548   \n",
       "39.0      0.989726  0.983254  0.982754  0.985896  ...  0.989269  0.988799   \n",
       "50.0      0.986282  0.977665  0.976999  0.981180  ...  0.985672  0.985047   \n",
       "51.0      0.982837  0.972088  0.971259  0.976471  ...  0.982076  0.981295   \n",
       "...            ...       ...       ...       ...  ...       ...       ...   \n",
       "4013.0    0.101118  0.023585  0.021066  0.042778  ...  0.091264  0.082141   \n",
       "4019.0    0.101118  0.023585  0.021066  0.042778  ...  0.091264  0.082141   \n",
       "4067.0    0.101118  0.023585  0.021066  0.042778  ...  0.091264  0.082141   \n",
       "4202.0    0.101118  0.023585  0.021066  0.042778  ...  0.091264  0.082141   \n",
       "4208.0    0.101118  0.023585  0.021066  0.042778  ...  0.091264  0.082141   \n",
       "\n",
       "                92        93        94        95        96        97  \\\n",
       "duration                                                               \n",
       "10.0      0.996679  0.996452  0.996385  0.993268  0.996139  0.996114   \n",
       "18.0      0.993352  0.992899  0.992766  0.986548  0.992273  0.992223   \n",
       "39.0      0.990006  0.989327  0.989126  0.979813  0.988388  0.988313   \n",
       "50.0      0.986654  0.985749  0.985482  0.973091  0.984498  0.984398   \n",
       "51.0      0.983303  0.982173  0.981839  0.966392  0.980611  0.980486   \n",
       "...            ...       ...       ...       ...       ...       ...   \n",
       "4013.0    0.107657  0.092455  0.088391  0.010835  0.074892  0.073644   \n",
       "4019.0    0.107657  0.092455  0.088391  0.010835  0.074892  0.073644   \n",
       "4067.0    0.107657  0.092455  0.088391  0.010835  0.074892  0.073644   \n",
       "4202.0    0.107657  0.092455  0.088391  0.010835  0.074892  0.073644   \n",
       "4208.0    0.107657  0.092455  0.088391  0.010835  0.074892  0.073644   \n",
       "\n",
       "                98        99  \n",
       "duration                      \n",
       "10.0      0.996805  0.995779  \n",
       "18.0      0.993604  0.991555  \n",
       "39.0      0.990385  0.987310  \n",
       "50.0      0.987160  0.983063  \n",
       "51.0      0.983934  0.978819  \n",
       "...            ...       ...  \n",
       "4013.0    0.117208  0.058792  \n",
       "4019.0    0.117208  0.058792  \n",
       "4067.0    0.117208  0.058792  \n",
       "4202.0    0.117208  0.058792  \n",
       "4208.0    0.117208  0.058792  \n",
       "\n",
       "[226 rows x 100 columns]"
      ]
     },
     "execution_count": 19,
     "metadata": {},
     "output_type": "execute_result"
    }
   ],
   "source": [
    "surv=surv.reset_index()\n",
    "\n",
    "surv[\"duration\"] = surv[\"duration\"]#*7\n",
    "duration = np.append(np.array([[0]]), np.array(surv[\"duration\"]))\n",
    "duration = np.append(duration, np.array([[duration.max()+1]]))\n",
    "surv=surv.set_index(\"duration\")\n",
    "surv"
   ]
  },
  {
   "cell_type": "code",
   "execution_count": 20,
   "metadata": {},
   "outputs": [
    {
     "name": "stdout",
     "output_type": "stream",
     "text": [
      "Mean Residual Life:  680.1672666522444\n",
      "Median Life:  502.39325842696627\n"
     ]
    }
   ],
   "source": [
    "import matplotlib.pyplot as plt\n",
    "from scipy import interpolate\n",
    "\n",
    "predicted_survival_MRL, predicted_survival_MedianLife = [], []\n",
    "for idx in range(len(Y_test)):#\n",
    "    S = np.append(np.array([[1]]), np.array(surv[idx]))\n",
    "    S = np.append(S, np.array([[0]]))\n",
    "    f = interpolate.interp1d(duration, S) # x, y\n",
    "    xnew = np.arange(0, duration.max(), 1)\n",
    "    ynew = f(xnew)   # use interpolation function returned by `interp1d`\n",
    "    sum_ = 0\n",
    "    for i in range(len(xnew)-1):\n",
    "        sum_ += ynew[i]  #ynew[i] = ynew[i]*(xnew[i+1] - xnew[i]) due to xnew[i+1] - xnew[i] = 1\n",
    "        \n",
    "    predicted_survival_MRL.append(sum_)\n",
    "    \n",
    "    # Median life\n",
    "    dis = abs(ynew - 0.5)\n",
    "    time = np.where(dis == dis.min())[0][0]\n",
    "    predicted_survival_MedianLife.append(time)\n",
    "    #print(patients_test[idx], sum_)\n",
    "\n",
    "predicted_survival_MRL = np.asarray(predicted_survival_MRL)\n",
    "predicted_survival_MedianLife = np.asarray(predicted_survival_MedianLife)\n",
    "\n",
    "print(\"Mean Residual Life: \", np.mean(abs(predicted_survival_MRL.reshape(-1)-durations_test)[events_test==1]))\n",
    "print(\"Median Life: \", np.mean(abs(predicted_survival_MedianLife.reshape(-1)-durations_test)[events_test==1]))\n",
    "\n"
   ]
  },
  {
   "cell_type": "markdown",
   "metadata": {},
   "source": [
    "## KM Plot \n",
    "1. Mean residual Life"
   ]
  },
  {
   "cell_type": "code",
   "execution_count": 21,
   "metadata": {},
   "outputs": [
    {
     "data": {
      "text/plain": [
       "<AxesSubplot:xlabel='timeline'>"
      ]
     },
     "execution_count": 21,
     "metadata": {},
     "output_type": "execute_result"
    },
    {
     "data": {
      "image/png": "[encoded data removed]",
      "text/plain": [
       "<Figure size 432x288 with 1 Axes>"
      ]
     },
     "metadata": {
      "needs_background": "light"
     },
     "output_type": "display_data"
    }
   ],
   "source": [
    "import matplotlib.pyplot as plt\n",
    "from lifelines import KaplanMeierFitter\n",
    "\n",
    "kmf = KaplanMeierFitter()\n",
    "\n",
    "ax = plt.subplot(111)\n",
    "\n",
    "kmf.fit(durations_test*7, event_observed=events_test, label='real')\n",
    "kmf.plot(ax=ax, ci_show=False)\n",
    "\n",
    "kmf.fit(predicted_survival_MRL, event_observed=events_test, label='Ensemble')\n",
    "kmf.plot(ax=ax, ci_show=False)"
   ]
  },
  {
   "cell_type": "markdown",
   "metadata": {},
   "source": [
    "2. Median Life"
   ]
  },
  {
   "cell_type": "code",
   "execution_count": 22,
   "metadata": {},
   "outputs": [
    {
     "data": {
      "text/plain": [
       "<AxesSubplot:xlabel='timeline'>"
      ]
     },
     "execution_count": 22,
     "metadata": {},
     "output_type": "execute_result"
    },
    {
     "data": {
      "image/png": "[encoded data removed]",
      "text/plain": [
       "<Figure size 432x288 with 1 Axes>"
      ]
     },
     "metadata": {
      "needs_background": "light"
     },
     "output_type": "display_data"
    }
   ],
   "source": [
    "import matplotlib.pyplot as plt\n",
    "from lifelines import KaplanMeierFitter\n",
    "\n",
    "kmf = KaplanMeierFitter()\n",
    "\n",
    "ax = plt.subplot(111)\n",
    "\n",
    "kmf.fit(durations_test*7, event_observed=events_test, label='real')\n",
    "kmf.plot(ax=ax, ci_show=False)\n",
    "\n",
    "kmf.fit(predicted_survival_MedianLife, event_observed=events_test, label='Clinical')\n",
    "kmf.plot(ax=ax, ci_show=False)"
   ]
  },
  {
   "cell_type": "code",
   "execution_count": null,
   "metadata": {},
   "outputs": [],
   "source": []
  },
  {
   "cell_type": "code",
   "execution_count": 23,
   "metadata": {},
   "outputs": [],
   "source": [
    "# # np.random.seed(231)\n",
    "# # torch.manual_seed(123)\n",
    "\n",
    "\n",
    "# class MAE(nn.Module):\n",
    "#     def __init__(self):\n",
    "#         super(MAE, self).__init__()\n",
    "#     def forward(self, y_true, y_pred):\n",
    "#         loss = abs(y_true - y_pred).sum() / y_true.shape[0]\n",
    "#         return loss  \n",
    "\n",
    "# #\"\"\"model\"\"\"\n",
    "# class Distribution_network(nn.Module):\n",
    "#     def __init__(self):\n",
    "#         super(Distribution_network, self).__init__()\n",
    "#         # self.histology = nn.Linear(4, 1, bias=True)\n",
    "#         # self.gender  = nn.Linear(2, 1, bias=True) \n",
    "  \n",
    "#         self.linear1 = nn.Linear(7, 64, bias=True)\n",
    "#         self.bn1 = nn.BatchNorm1d(num_features=64)\n",
    "#         self.linear2 = nn.Linear(64, 16, bias=True)\n",
    "#         self.bn2 = nn.BatchNorm1d(num_features=16)\n",
    "#         self.linear3 = nn.Linear(16, 1, bias=False)\n",
    "#         self.relu    = nn.ReLU()\n",
    "#         self.dropout = nn.Dropout(p=0.1, inplace=True)\n",
    "\n",
    "#         self.reset_parameters()\n",
    "    \n",
    "#     def reset_parameters(self):\n",
    "#         for m in self.modules():\n",
    "#             if isinstance(m, nn.Conv3d):\n",
    "#                 nn.init.kaiming_normal_(m.weight,\n",
    "#                                         mode='fan_out',\n",
    "#                                         nonlinearity='relu')\n",
    "#             elif isinstance(m, nn.BatchNorm3d):\n",
    "#                 nn.init.constant_(m.weight, 1)\n",
    "#                 nn.init.constant_(m.bias, 0)\n",
    "\n",
    "#     def forward(self, X_clinical):\n",
    "#         # history = self.histology(X_clinical[:, :4])\n",
    "#         # gender = self.gender(X_clinical[:, 4:6])\n",
    "#         # out = torch.cat((history, gender, X_clinical[:, 6:]), dim=1)\n",
    "\n",
    "#         out = X_clinical[:, 6:]\n",
    "\n",
    "#         out = self.linear1(out)\n",
    "#         out = self.bn1(out)\n",
    "#         out = self.relu(out)\n",
    "#         out = self.dropout(out)\n",
    "\n",
    "#         out = self.linear2(out)\n",
    "#         out = self.bn2(out)\n",
    "#         out = self.relu(out)\n",
    "#         out = self.dropout(out)\n",
    "\n",
    "#         out = self.linear3(out)\n",
    "#         return out\n",
    "    \n",
    "# survival_model = Distribution_network()\n",
    "# survival_model.to(device)\n",
    "# #optimizer = torch.optim.Adam(survival_model.parameters(), lr=0.00001)\n",
    "# optimizer = torch.optim.RMSprop(survival_model.parameters(), lr=0.01, alpha=0.99, eps=1e-08)\n",
    "# criterion = MAE()"
   ]
  },
  {
   "cell_type": "code",
   "execution_count": 24,
   "metadata": {},
   "outputs": [],
   "source": [
    "# model.eval()\n",
    "# min_mae = np.inf\n",
    "\n",
    "# #predict\n",
    "# with torch.no_grad():\n",
    "#     hr_exp_pred = model(X_train)[0].exp()\n",
    "\n",
    "# # train Distribution function network\n",
    "# for epoch in range(100):#1715\n",
    "#     survival_model.train()\n",
    "#     optimizer.zero_grad()\n",
    "#     y_pred = survival_model(X_train) / hr_exp_pred\n",
    "#     loss = criterion(Y_train[E_train==1], y_pred[E_train==1])\n",
    "#     loss.backward()\n",
    "#     optimizer.step()\n",
    "#     if (epoch +1) % 10 == 0:\n",
    "#         print(epoch, (loss/E_train.sum()).item())\n"
   ]
  },
  {
   "cell_type": "code",
   "execution_count": 25,
   "metadata": {},
   "outputs": [],
   "source": [
    "# \"\"\"predict\"\"\"\n",
    "\n",
    "# model.eval()\n",
    "# with torch.no_grad():\n",
    "#     hr_exp_pred = model(X_test)[0].exp()\n",
    "\n",
    "    \n",
    "# \"\"\"predict\"\"\"\n",
    "# survival_model.eval()\n",
    "# with torch.no_grad():\n",
    "#     predicted_survival = survival_model(X_test) / hr_exp_pred\n",
    "#     predicted_survival = predicted_survival.reshape(-1)\n",
    "#     mae = abs(predicted_survival-Y_test)[E_test==1].mean()\n",
    "#     print(mae, mae*7)\n"
   ]
  },
  {
   "cell_type": "code",
   "execution_count": 26,
   "metadata": {},
   "outputs": [],
   "source": [
    "# predicted_survival.shape, Y_test[E_test==1].shape"
   ]
  },
  {
   "cell_type": "code",
   "execution_count": 27,
   "metadata": {},
   "outputs": [],
   "source": [
    "# import matplotlib.pyplot as plt\n",
    "# from lifelines import KaplanMeierFitter\n",
    "\n",
    "# kmf = KaplanMeierFitter()\n",
    "\n",
    "# ax = plt.subplot(111)\n",
    "\n",
    "# kmf.fit(durations_test*7, event_observed=events_test, label='real')\n",
    "# kmf.plot(ax=ax, ci_show=False)\n",
    "\n",
    "# kmf.fit((predicted_survival*7).cpu().detach().numpy(), event_observed=events_test, label='Ensemble')\n",
    "# kmf.plot(ax=ax, ci_show=False)"
   ]
  },
  {
   "cell_type": "markdown",
   "metadata": {},
   "source": [
    "## Overall Stage Analysis"
   ]
  },
  {
   "cell_type": "code",
   "execution_count": 28,
   "metadata": {},
   "outputs": [],
   "source": [
    "# #X_test[:, 8] # -1.5518, -0.7397,  0.8846,  0.0725,\n",
    "# overallStage = X_test[:, 8].cpu().detach().numpy()\n",
    "# overallStage[ overallStage  < -1] = 1 \n",
    "# overallStage = overallStage * events_test\n",
    "# stage1 = (abs(predicted_survival-Y_test)[overallStage==1].mean()*7).cpu().detach().numpy()\n",
    "# print(len(abs(predicted_survival-Y_test)[overallStage==1]))\n",
    "\n",
    "# overallStage = X_test[:, 8].cpu().detach().numpy()\n",
    "# overallStage[ overallStage  < -1] = 0\n",
    "# overallStage[ overallStage < 0] = 1 \n",
    "# overallStage = overallStage * events_test\n",
    "# stage2 =  (abs(predicted_survival-Y_test)[overallStage==1].mean()*7).cpu().detach().numpy()\n",
    "# print(len(abs(predicted_survival-Y_test)[overallStage==1]))\n",
    "\n",
    "# overallStage = X_test[:, 8].cpu().detach().numpy()\n",
    "# overallStage[ overallStage  < 0] = 0\n",
    "# overallStage[ overallStage > 0.5] = 0\n",
    "# overallStage[ overallStage > 0] = 1\n",
    "# overallStage = overallStage * events_test\n",
    "# stage3 = (abs(predicted_survival-Y_test)[overallStage==1].mean()*7).cpu().detach().numpy()\n",
    "# print(len(abs(predicted_survival-Y_test)[overallStage==1]))\n",
    "\n",
    "# overallStage = X_test[:, 8].cpu().detach().numpy()\n",
    "# overallStage[ overallStage  > 0.5] = 1\n",
    "# # overallStage = overallStage * events_test\n",
    "# stage4 = (abs(predicted_survival-Y_test)[overallStage==1].mean()*7).cpu().detach().numpy()\n",
    "# print(len(abs(predicted_survival-Y_test)[overallStage==1]))\n",
    "\n",
    "# print(stage1, stage2, stage3, stage4)"
   ]
  },
  {
   "cell_type": "code",
   "execution_count": null,
   "metadata": {},
   "outputs": [],
   "source": []
  },
  {
   "cell_type": "code",
   "execution_count": 29,
   "metadata": {},
   "outputs": [],
   "source": [
    "# overallStage = X_test[:, 8].cpu().detach().numpy()\n",
    "# overallStage[ overallStage  < -1] = 1 \n",
    "# overallStage = overallStage * events_test\n",
    "# stage1 = (abs(predicted_survival-Y_test)[overallStage==1].mean()*7).cpu().detach().numpy()\n",
    "# print(len(abs(predicted_survival-Y_test)[overallStage==1]))\n",
    "\n",
    "# overallStage = X_test[:, 8].cpu().detach().numpy()\n",
    "# overallStage[ overallStage  < -1] = 0\n",
    "# overallStage[ overallStage < 0] = 1 \n",
    "# overallStage = overallStage * events_test\n",
    "# stage2 =  (abs(predicted_survival-Y_test)[overallStage==1].mean()*7).cpu().detach().numpy()\n",
    "# print(len(abs(predicted_survival-Y_test)[overallStage==1]))\n",
    "\n",
    "# overallStage = X_test[:, 8].cpu().detach().numpy()\n",
    "# overallStage[ overallStage  < 0] = 0\n",
    "# overallStage[ overallStage > 0.5] = 0\n",
    "# overallStage[ overallStage > 0] = 1\n",
    "# overallStage = overallStage * events_test\n",
    "# stage3 = (abs(predicted_survival-Y_test)[overallStage==1].mean()*7).cpu().detach().numpy()\n",
    "# print(len(abs(predicted_survival-Y_test)[overallStage==1]))\n",
    "\n",
    "# overallStage = X_test[:, 8].cpu().detach().numpy()\n",
    "# overallStage[ overallStage  > 0.5] = 1\n",
    "# overallStage = overallStage * events_test\n",
    "# stage4 = (abs(predicted_survival-Y_test)[overallStage==1].mean()*7).cpu().detach().numpy()\n",
    "# print(len(abs(predicted_survival-Y_test)[overallStage==1]))\n",
    "\n",
    "# print(stage1, stage2, stage3, stage4)"
   ]
  },
  {
   "cell_type": "markdown",
   "metadata": {},
   "source": [
    "## Classification"
   ]
  },
  {
   "cell_type": "code",
   "execution_count": 30,
   "metadata": {},
   "outputs": [],
   "source": [
    "predicted_survival_MedianLife = predicted_survival_MedianLife[events_test==1]\n",
    "durations_test = durations_test[events_test==1]\n",
    "\n",
    "Y_target_cate = np.zeros_like(durations_test)\n",
    "Y_pred_cate   = np.zeros_like(Y_target_cate)\n",
    "\n",
    "Y_target_cate[durations_test*7 >= 4*365] = 2\n",
    "Y_target_cate[durations_test*7 < 4*365] = 1\n",
    "Y_target_cate[durations_test*7 < 2*365] = 0\n",
    "\n",
    "Y_pred_cate[predicted_survival_MedianLife >= 4*365] = 2\n",
    "Y_pred_cate[predicted_survival_MedianLife < 4*365] = 1\n",
    "Y_pred_cate[predicted_survival_MedianLife < 2*365] = 0"
   ]
  },
  {
   "cell_type": "code",
   "execution_count": 31,
   "metadata": {},
   "outputs": [
    {
     "data": {
      "text/plain": [
       "array([[ 6., 11., 72.],\n",
       "       [ 0.,  0.,  0.],\n",
       "       [ 0.,  0.,  0.]])"
      ]
     },
     "execution_count": 31,
     "metadata": {},
     "output_type": "execute_result"
    }
   ],
   "source": [
    "count = np.zeros((3,3))\n",
    "for i in range(len(Y_target_cate)):\n",
    "    count[int(Y_pred_cate[i]), int(Y_target_cate[i])] += 1\n",
    "count"
   ]
  },
  {
   "cell_type": "code",
   "execution_count": 32,
   "metadata": {},
   "outputs": [
    {
     "data": {
      "text/plain": [
       "0.06741573033707865"
      ]
     },
     "execution_count": 32,
     "metadata": {},
     "output_type": "execute_result"
    }
   ],
   "source": [
    "(count[0,0] + count[1,1]+count[2,2])/count.sum()"
   ]
  },
  {
   "cell_type": "code",
   "execution_count": 33,
   "metadata": {},
   "outputs": [
    {
     "data": {
      "text/plain": [
       "0.19101123595505617"
      ]
     },
     "execution_count": 33,
     "metadata": {},
     "output_type": "execute_result"
    }
   ],
   "source": []
  },
  {
   "cell_type": "code",
   "execution_count": 34,
   "metadata": {},
   "outputs": [
    {
     "data": {
      "text/plain": [
       "449.0"
      ]
     },
     "execution_count": 34,
     "metadata": {},
     "output_type": "execute_result"
    }
   ],
   "source": [
    "538-count.sum()"
   ]
  },
  {
   "cell_type": "code",
   "execution_count": null,
   "metadata": {},
   "outputs": [],
   "source": []
  }
 ],
 "metadata": {
  "kernelspec": {
   "display_name": "Python 3",
   "language": "python",
   "name": "python3"
  },
  "language_info": {
   "codemirror_mode": {
    "name": "ipython",
    "version": 3
   },
   "file_extension": ".py",
   "mimetype": "text/x-python",
   "name": "python",
   "nbconvert_exporter": "python",
   "pygments_lexer": "ipython3",
   "version": "3.7.0"
  }
 },
 "nbformat": 4,
 "nbformat_minor": 4
}
