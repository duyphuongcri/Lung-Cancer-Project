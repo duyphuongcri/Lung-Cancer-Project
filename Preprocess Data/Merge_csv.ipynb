{
 "cells": [
  {
   "cell_type": "code",
   "execution_count": 4,
   "metadata": {},
   "outputs": [],
   "source": [
    "\n",
    "import pandas as pd\n",
    "import os \n",
    "import numpy as np \n"
   ]
  },
  {
   "cell_type": "code",
   "execution_count": 5,
   "metadata": {},
   "outputs": [],
   "source": [
    "frame1 = pd.read_excel(\"D:/LungCancer/2020-lung-cancer/20200510 폐암 예후 예측 (n=317) _radiomics and clinical/LC_NSCLC_20200512_(n=317).xlsx\")\n",
    "frame2 = pd.read_excel(\"D:/LungCancer/2020-lung-cancer/20200514 폐암 예후 예측 (n=189)/LC_NSCLC_20200514(n=189).xlsx\")\n",
    "frame3 = pd.read_excel(\"D:/LungCancer/2020-lung-cancer/20200518 폐암 예후 예측 (n=215)/LC_NSCLC_20200515_(n=215).xlsx\")\n",
    "frame4 = pd.read_excel(\"D:/LungCancer/2020-lung-cancer/20200519 폐암 예후 예측 (n=183)/LC_NSCLC_20200519_(n=183).xlsx\")\n",
    "frame5 = pd.read_excel(\"D:/LungCancer/2020-lung-cancer/20200521 폐암 예후 예측 (n=173)/LC_NSCLC_20200521_(n=173).xlsx\")\n",
    "frame6 = pd.read_excel(\"D:/LungCancer/2020-lung-cancer/20200526 폐암 예후 예측 (n=303)/LC_NSCLC_20200526_(n=303).xlsx\")\n",
    "frame7 = pd.read_excel(\"D:/LungCancer/2020-lung-cancer/20200528 폐암 예후 예측 (n=197)/LC_NSCLC_20200528(n=197).xlsx\")\n",
    "frame8 = pd.read_excel(\"D:/LungCancer/2020-lung-cancer/20200601 폐암 예후 예측 (n=198)/LC_NSCLC_20200601_(n=198).xlsx\")\n",
    "frame9 = pd.read_excel(\"D:/LungCancer/2020-lung-cancer/20200603 폐암 예후 예측 (n=214)/LC_NSCLC_20200623_(n=214).xlsx\")\n",
    "frame10 = pd.read_excel(\"D:/LungCancer/2020-lung-cancer/LC_NSCLC_20200629_(n=317)/LC_NSCLC_20200629_(n=317).xlsx\") \n",
    "frame11 = pd.read_excel(\"D:/LungCancer/2020-lung-cancer/LC_NSCLC_20200707(n=169)/LC_NSCLC_20200707(n=169).xlsx\")\n",
    "frame12 = pd.read_excel(\"D:/LungCancer/2020-lung-cancer/LC_NSCLC_20200708(n=225)/LC_NSCLC_20200708(n=225).xlsx\")\n",
    "\n",
    "frame13 = pd.read_excel(\"D:/LungCancer/2021-lung-cancer/20210127_공대_LC_NSCLC_DICOM/LC_NSCLC_20210120_(n=583)_20210127수정.xlsx\")\n",
    "frame14 = pd.read_excel(\"D:/LungCancer/2021-lung-cancer/20210127_공대_LC_NSCLC_DICOM/LC_NSCLC_20210127_(n=834).xlsx\")                     "
   ]
  },
  {
   "cell_type": "code",
   "execution_count": 6,
   "metadata": {},
   "outputs": [
    {
     "data": {
      "text/plain": [
       "4117"
      ]
     },
     "execution_count": 6,
     "metadata": {},
     "output_type": "execute_result"
    }
   ],
   "source": [
    "frames = [frame1, frame2, frame3, frame4, frame5, frame6, frame7, frame8, frame9, frame10, frame11, frame12, frame13, frame14]\n",
    "frame_new = pd.concat(frames)\n",
    "len(frame_new)"
   ]
  },
  {
   "cell_type": "code",
   "execution_count": 7,
   "metadata": {},
   "outputs": [
    {
     "data": {
      "text/plain": [
       "4110"
      ]
     },
     "execution_count": 7,
     "metadata": {},
     "output_type": "execute_result"
    }
   ],
   "source": [
    "patientID = np.unique(frame_new.PatientID)\n",
    "len(patientID)"
   ]
  },
  {
   "cell_type": "code",
   "execution_count": 8,
   "metadata": {},
   "outputs": [
    {
     "data": {
      "text/plain": [
       "4110"
      ]
     },
     "execution_count": 8,
     "metadata": {},
     "output_type": "execute_result"
    }
   ],
   "source": [
    "frame_new = frame_new.drop_duplicates(subset=['PatientID'])\n",
    "len(frame_new)\n"
   ]
  },
  {
   "cell_type": "code",
   "execution_count": 10,
   "metadata": {},
   "outputs": [],
   "source": [
    "frame_new = frame_new.sort_values(by=['PatientID'])\n",
    "frame_new.to_csv(\"../dataset/LC_NSCLC_12_folders_20210302.csv\", index=False)"
   ]
  },
  {
   "cell_type": "code",
   "execution_count": null,
   "metadata": {},
   "outputs": [],
   "source": []
  }
 ],
 "metadata": {
  "kernelspec": {
   "display_name": "Python 3",
   "language": "python",
   "name": "python3"
  },
  "language_info": {
   "codemirror_mode": {
    "name": "ipython",
    "version": 3
   },
   "file_extension": ".py",
   "mimetype": "text/x-python",
   "name": "python",
   "nbconvert_exporter": "python",
   "pygments_lexer": "ipython3",
   "version": "3.7.0"
  }
 },
 "nbformat": 4,
 "nbformat_minor": 4
}
