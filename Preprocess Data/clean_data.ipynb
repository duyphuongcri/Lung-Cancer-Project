{
 "cells": [
  {
   "cell_type": "code",
   "execution_count": 1,
   "metadata": {},
   "outputs": [],
   "source": [
    "import pandas as pd \n",
    "import numpy as np \n",
    "import os \n",
    "import misc\n"
   ]
  },
  {
   "cell_type": "code",
   "execution_count": 2,
   "metadata": {},
   "outputs": [
    {
     "data": {
      "text/html": [
       "<div>\n",
       "<style scoped>\n",
       "    .dataframe tbody tr th:only-of-type {\n",
       "        vertical-align: middle;\n",
       "    }\n",
       "\n",
       "    .dataframe tbody tr th {\n",
       "        vertical-align: top;\n",
       "    }\n",
       "\n",
       "    .dataframe thead th {\n",
       "        text-align: right;\n",
       "    }\n",
       "</style>\n",
       "<table border=\"1\" class=\"dataframe\">\n",
       "  <thead>\n",
       "    <tr style=\"text-align: right;\">\n",
       "      <th></th>\n",
       "      <th>PatientID</th>\n",
       "      <th>gender</th>\n",
       "      <th>age</th>\n",
       "      <th>Survival.time</th>\n",
       "      <th>Mcode</th>\n",
       "      <th>Mcode.description</th>\n",
       "      <th>Histology</th>\n",
       "      <th>Overall.stage</th>\n",
       "      <th>Clinical.T.Stage</th>\n",
       "      <th>Clinical.N.stage</th>\n",
       "      <th>Clinical.M.stage</th>\n",
       "      <th>Smoking.status</th>\n",
       "      <th>Smoking.amount</th>\n",
       "      <th>Deadstatus.event</th>\n",
       "    </tr>\n",
       "  </thead>\n",
       "  <tbody>\n",
       "    <tr>\n",
       "      <th>0</th>\n",
       "      <td>LC00095</td>\n",
       "      <td>0.0</td>\n",
       "      <td>57.756164</td>\n",
       "      <td>3</td>\n",
       "      <td>m8140/3</td>\n",
       "      <td>Adenocarcinoma</td>\n",
       "      <td>0.0</td>\n",
       "      <td>3.0</td>\n",
       "      <td>3.0</td>\n",
       "      <td>3</td>\n",
       "      <td>1</td>\n",
       "      <td>1</td>\n",
       "      <td>40.0</td>\n",
       "      <td>1</td>\n",
       "    </tr>\n",
       "    <tr>\n",
       "      <th>1</th>\n",
       "      <td>LC00118</td>\n",
       "      <td>0.0</td>\n",
       "      <td>67.534247</td>\n",
       "      <td>374</td>\n",
       "      <td>m8070/3</td>\n",
       "      <td>Squamous cell carcinoma</td>\n",
       "      <td>1.0</td>\n",
       "      <td>2.0</td>\n",
       "      <td>2.0</td>\n",
       "      <td>2</td>\n",
       "      <td>0</td>\n",
       "      <td>1</td>\n",
       "      <td>60.0</td>\n",
       "      <td>1</td>\n",
       "    </tr>\n",
       "    <tr>\n",
       "      <th>2</th>\n",
       "      <td>LC00124</td>\n",
       "      <td>0.0</td>\n",
       "      <td>70.498630</td>\n",
       "      <td>54</td>\n",
       "      <td>m8070/3</td>\n",
       "      <td>Squamous cell carcinoma</td>\n",
       "      <td>1.0</td>\n",
       "      <td>0.0</td>\n",
       "      <td>0.0</td>\n",
       "      <td>0</td>\n",
       "      <td>0</td>\n",
       "      <td>1</td>\n",
       "      <td>50.0</td>\n",
       "      <td>1</td>\n",
       "    </tr>\n",
       "    <tr>\n",
       "      <th>3</th>\n",
       "      <td>LC00135</td>\n",
       "      <td>0.0</td>\n",
       "      <td>44.490411</td>\n",
       "      <td>232</td>\n",
       "      <td>m8140/3</td>\n",
       "      <td>Adenocarcinoma</td>\n",
       "      <td>0.0</td>\n",
       "      <td>3.0</td>\n",
       "      <td>3.0</td>\n",
       "      <td>3</td>\n",
       "      <td>1</td>\n",
       "      <td>0</td>\n",
       "      <td>0.0</td>\n",
       "      <td>1</td>\n",
       "    </tr>\n",
       "    <tr>\n",
       "      <th>4</th>\n",
       "      <td>LC00140</td>\n",
       "      <td>0.0</td>\n",
       "      <td>53.449315</td>\n",
       "      <td>1546</td>\n",
       "      <td>m8140/3</td>\n",
       "      <td>Adenocarcinoma</td>\n",
       "      <td>0.0</td>\n",
       "      <td>3.0</td>\n",
       "      <td>1.0</td>\n",
       "      <td>3</td>\n",
       "      <td>0</td>\n",
       "      <td>1</td>\n",
       "      <td>10.0</td>\n",
       "      <td>1</td>\n",
       "    </tr>\n",
       "  </tbody>\n",
       "</table>\n",
       "</div>"
      ],
      "text/plain": [
       "  PatientID  gender        age  Survival.time    Mcode  \\\n",
       "0   LC00095     0.0  57.756164              3  m8140/3   \n",
       "1   LC00118     0.0  67.534247            374  m8070/3   \n",
       "2   LC00124     0.0  70.498630             54  m8070/3   \n",
       "3   LC00135     0.0  44.490411            232  m8140/3   \n",
       "4   LC00140     0.0  53.449315           1546  m8140/3   \n",
       "\n",
       "         Mcode.description  Histology  Overall.stage  Clinical.T.Stage  \\\n",
       "0           Adenocarcinoma        0.0            3.0               3.0   \n",
       "1  Squamous cell carcinoma        1.0            2.0               2.0   \n",
       "2  Squamous cell carcinoma        1.0            0.0               0.0   \n",
       "3           Adenocarcinoma        0.0            3.0               3.0   \n",
       "4           Adenocarcinoma        0.0            3.0               1.0   \n",
       "\n",
       "   Clinical.N.stage  Clinical.M.stage  Smoking.status  Smoking.amount  \\\n",
       "0                 3                 1               1            40.0   \n",
       "1                 2                 0               1            60.0   \n",
       "2                 0                 0               1            50.0   \n",
       "3                 3                 1               0             0.0   \n",
       "4                 3                 0               1            10.0   \n",
       "\n",
       "   Deadstatus.event  \n",
       "0                 1  \n",
       "1                 1  \n",
       "2                 1  \n",
       "3                 1  \n",
       "4                 1  "
      ]
     },
     "execution_count": 2,
     "metadata": {},
     "output_type": "execute_result"
    }
   ],
   "source": [
    "frame = pd.read_excel(\"./dataset/LC_NSCLC_20200512_(n=317).xlsx\", converters=misc.CONVERTERS)\n",
    "frame.head(5)"
   ]
  },
  {
   "cell_type": "code",
   "execution_count": 3,
   "metadata": {},
   "outputs": [
    {
     "name": "stdout",
     "output_type": "stream",
     "text": [
      "(317, 4)\n",
      "(317, 4)\n",
      "(317, 4)\n"
     ]
    }
   ],
   "source": [
    "histology = misc.to_categorical(frame[\"Histology\"], 4)\n",
    "overall_stage = misc.to_categorical(frame[\"Overall.stage\"], 4)\n",
    "T_stage = misc.to_categorical(frame[\"Clinical.T.Stage\"], 4)\n",
    "N_stage = misc.to_categorical(frame[\"Clinical.N.stage\"], 4)\n",
    "M_stage = misc.to_categorical(frame[\"Clinical.M.stage\"], 2)\n",
    "gender = misc.to_categorical(frame[\"gender\"], 2)\n",
    "print(histology.shape)\n",
    "print(overall_stage.shape)\n",
    "print(T_stage.shape)"
   ]
  },
  {
   "cell_type": "code",
   "execution_count": 4,
   "metadata": {},
   "outputs": [],
   "source": [
    "frame_ = frame.drop([\"gender\", \"Histology\", \"Overall.stage\", \n",
    "                     \"Clinical.T.Stage\", \"Clinical.N.stage\", \n",
    "                     \"Clinical.M.stage\", \"Mcode\", \"Smoking.status\",\n",
    "                     \"Mcode.description\"], axis=1)"
   ]
  },
  {
   "cell_type": "code",
   "execution_count": 5,
   "metadata": {},
   "outputs": [
    {
     "data": {
      "text/plain": [
       "(317, 20)"
      ]
     },
     "execution_count": 5,
     "metadata": {},
     "output_type": "execute_result"
    }
   ],
   "source": [
    "\n",
    "data = np.concatenate((histology, overall_stage, T_stage, N_stage, M_stage,gender), axis=1)\n",
    "data.shape"
   ]
  },
  {
   "cell_type": "code",
   "execution_count": 6,
   "metadata": {},
   "outputs": [
    {
     "name": "stdout",
     "output_type": "stream",
     "text": [
      "317\n"
     ]
    }
   ],
   "source": [
    "# columns = [\"histology_0\" ,\"histology_1\", \"histology_2\", \"histology_3\",\n",
    "#            \"overall_stage_0\", \"overall_stage_1\", \"overall_stage_2\", \"overall_stage_3\",\n",
    "#            \"T_stage_0\", \"T_stage_1\", \"T_stage_2\", \"T_stage_3\",\n",
    "#            \"N_stage_0\", \"N_stage_1\", \"N_stage_2\", \"N_stage_3\",\n",
    "#            \"M_stage_0\",  \"M_stage_1\",\n",
    "#            \"gender_0\", \"gender_1\"]\n",
    "\n",
    "\n",
    "frame_new = pd.concat([pd.DataFrame(data), frame_], axis=1)\n",
    "patientID = np.unique(frame_.PatientID)\n",
    "print(len(patientID))\n",
    "\n",
    "frame_new = frame_new.set_index(\"PatientID\")\n",
    "\n",
    "#frame_new.to_csv(\"./dataset/test.csv\", index=True)"
   ]
  },
  {
   "cell_type": "code",
   "execution_count": 16,
   "metadata": {},
   "outputs": [
    {
     "data": {
      "text/plain": [
       "PatientID\n",
       "LC00095       3\n",
       "LC00118     374\n",
       "LC00124      54\n",
       "LC00135     232\n",
       "LC00140    1546\n",
       "           ... \n",
       "LC05165    1820\n",
       "LC05166    1808\n",
       "LC05177    1185\n",
       "LC05179    1350\n",
       "LC05195    2674\n",
       "Name: Survival.time, Length: 317, dtype: int64"
      ]
     },
     "execution_count": 16,
     "metadata": {},
     "output_type": "execute_result"
    }
   ],
   "source": [
    "frame = pd.read_csv(\"./dataset/test.csv\")\n",
    "patientID = np.unique(frame.PatientID)\n",
    "frame = frame.set_index(\"PatientID\")\n",
    "fields = [\"age\", \"Smoking.amount\"]\n",
    "frame[fields] = (frame[fields] - frame[fields].min()) / (frame[fields].max() - frame[fields].min())\n",
    "columns = [str(i) for i in range(20)]\n",
    "columns.extend(fields)\n",
    "\n",
    "frame[columns]\n",
    "frame[\"Deadstatus.event\"]\n",
    "frame[\"Survival.time\"]"
   ]
  },
  {
   "cell_type": "code",
   "execution_count": 17,
   "metadata": {},
   "outputs": [
    {
     "data": {
      "text/plain": [
       "PatientID\n",
       "LC00095      0.428571\n",
       "LC00118     53.428571\n",
       "LC00124      7.714286\n",
       "LC00135     33.142857\n",
       "LC00140    220.857143\n",
       "              ...    \n",
       "LC05165    260.000000\n",
       "LC05166    258.285714\n",
       "LC05177    169.285714\n",
       "LC05179    192.857143\n",
       "LC05195    382.000000\n",
       "Name: Survival.time, Length: 317, dtype: float64"
      ]
     },
     "execution_count": 17,
     "metadata": {},
     "output_type": "execute_result"
    }
   ],
   "source": [
    "frame[\"Survival.time\"]/7"
   ]
  },
  {
   "cell_type": "code",
   "execution_count": null,
   "metadata": {},
   "outputs": [],
   "source": []
  }
 ],
 "metadata": {
  "kernelspec": {
   "display_name": "Python 3",
   "language": "python",
   "name": "python3"
  },
  "language_info": {
   "codemirror_mode": {
    "name": "ipython",
    "version": 3
   },
   "file_extension": ".py",
   "mimetype": "text/x-python",
   "name": "python",
   "nbconvert_exporter": "python",
   "pygments_lexer": "ipython3",
   "version": "3.7.0"
  }
 },
 "nbformat": 4,
 "nbformat_minor": 4
}
