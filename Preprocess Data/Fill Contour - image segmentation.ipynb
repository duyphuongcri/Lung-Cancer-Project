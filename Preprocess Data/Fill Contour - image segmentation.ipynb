{
 "cells": [
  {
   "cell_type": "code",
   "execution_count": 1,
   "metadata": {},
   "outputs": [],
   "source": [
    "import cv2 \n",
    "import numpy as np\n",
    "from scipy import ndimage\n",
    "from skimage import io\n",
    "import os\n",
    "import matplotlib.pyplot as plt"
   ]
  },
  {
   "cell_type": "code",
   "execution_count": 2,
   "metadata": {},
   "outputs": [],
   "source": [
    "path = \"D:\\\\LungCancer\\\\2021-lung-cancer\\\\Data_label_CT_PET_400\\\\AIDATA_ROI_label_PMOD_DICOM(n=246)\"\n",
    "\n",
    "path2save = \"D:\\\\LungCancer\\\\src\\\\dataset\\\\ct_pet_n_400\""
   ]
  },
  {
   "cell_type": "code",
   "execution_count": 3,
   "metadata": {},
   "outputs": [],
   "source": [
    "for dirName, subdirList, fileList in os.walk(path):\n",
    "    if (len(fileList) <= 1) :\n",
    "        continue\n",
    "    \n",
    "    image_3d = np.zeros((448, 128, 128))\n",
    "    for i, filename in enumerate(fileList):\n",
    "#         if i != 98:\n",
    "#             continue\n",
    "        img = cv2.imread(os.path.join(dirName, filename), 0)\n",
    "        _, img_bw = cv2.threshold(img, 50, 255, 0)\n",
    "        contours, hierarchy = cv2.findContours(img_bw, cv2.RETR_TREE, cv2.CHAIN_APPROX_SIMPLE)\n",
    "        mask = np.zeros(img_bw.shape)\n",
    "        for contour in contours:\n",
    "            x, y, w, h = cv2.boundingRect(contour)\n",
    "            if x < 20 and y < 20:\n",
    "                continue\n",
    "            mask = cv2.drawContours(mask, [contour], -1, (255), -1)\n",
    "            \n",
    "        mask_resized = cv2.resize(mask, (128, 128))\n",
    "        mask_resized[mask_resized > 50] = 255\n",
    "        mask_resized[mask_resized <= 50] = 0\n",
    "        \n",
    "        image_3d[447-i] = mask_resized /255.0\n",
    "        \n",
    "    np.save(os.path.join(path2save, \"GT\", dirName[-7:]+ \".npy\"), image_3d.astype(np.int)) \n",
    "#         plt.imshow(mask)\n",
    "#         plt.show()\n",
    "    \n",
    "        \n"
   ]
  },
  {
   "cell_type": "code",
   "execution_count": 7,
   "metadata": {},
   "outputs": [
    {
     "data": {
      "text/plain": [
       "(448, 128, 128)"
      ]
     },
     "execution_count": 7,
     "metadata": {},
     "output_type": "execute_result"
    }
   ],
   "source": [
    "image_3d.shape"
   ]
  },
  {
   "cell_type": "code",
   "execution_count": null,
   "metadata": {},
   "outputs": [],
   "source": []
  }
 ],
 "metadata": {
  "kernelspec": {
   "display_name": "Python 3",
   "language": "python",
   "name": "python3"
  },
  "language_info": {
   "codemirror_mode": {
    "name": "ipython",
    "version": 3
   },
   "file_extension": ".py",
   "mimetype": "text/x-python",
   "name": "python",
   "nbconvert_exporter": "python",
   "pygments_lexer": "ipython3",
   "version": "3.7.0"
  }
 },
 "nbformat": 4,
 "nbformat_minor": 4
}
